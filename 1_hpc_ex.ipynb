{
 "cells": [
  {
   "cell_type": "markdown",
   "metadata": {},
   "source": [
    "## HPC EX 1"
   ]
  },
  {
   "cell_type": "code",
   "execution_count": 1,
   "metadata": {
    "collapsed": false
   },
   "outputs": [],
   "source": [
    "import os\n",
    "import numpy as np\n",
    "import scipy\n",
    "# If you have matplotlib 1.5 or higher, we can use live plotting!\n",
    "import matplotlib as mpl\n",
    "if float(mpl.__version__[:3]) >= 1.5:\n",
    "    %matplotlib notebook\n",
    "else:\n",
    "    %matplotlib inline\n",
    "    \n",
    "import matplotlib.pyplot as plt\n",
    "import time\n",
    "\n",
    "\n",
    "\n",
    "\n",
    "\n"
   ]
  },
  {
   "cell_type": "code",
   "execution_count": null,
   "metadata": {
    "collapsed": true
   },
   "outputs": [],
   "source": [
    "# Plotting code:\n",
    "fig, ax = plt.subplots(1, 1)\n",
    "ax.set_title('Training progress')\n",
    "ax.set_xlim([0, n_epochs])\n",
    "ax.set_ylim([0, 0.5])\n",
    "ax.set_xlabel('Epoch')\n",
    "ax.set_ylabel('Error')\n",
    "\n",
    "def plot(ax):\n",
    "    if ax.lines:\n",
    "        ax.lines[0].set_ydata(training_loss)\n",
    "        ax.lines[1].set_ydata(valid_loss)\n",
    "        ax.set_ylim([0,  0.2])\n",
    "    else:\n",
    "        ax.plot(training_loss, c='b', label='Training loss')\n",
    "        ax.plot(valid_loss, c='m', label='Validation loss')\n",
    "        ax.legend(loc='lower left')\n",
    "    fig.canvas.draw()\n",
    "# -- end of plotting code\n",
    "  \n",
    "\n",
    "# The training loop\n",
    "for i in range(n_epochs):\n",
    "    start = time.time()\n",
    "    \n",
    "    \n",
    "    # Measure the time it took to perform the training in this epoch\n",
    "    epoch_time[i] = time.time() - start\n",
    "    \n",
    "    \n",
    "    # Update the plot\n",
    "    if i % update_plot == 0 or i == n_epochs - 1:\n",
    "        plot(ax)\n",
    "        \n",
    "\n",
    "print('\\tTraining duration: {:.3f}s'.format(np.sum(epoch_time)))"
   ]
  }
 ],
 "metadata": {
  "kernelspec": {
   "display_name": "Python 3",
   "language": "python",
   "name": "python3"
  },
  "language_info": {
   "codemirror_mode": {
    "name": "ipython",
    "version": 3
   },
   "file_extension": ".py",
   "mimetype": "text/x-python",
   "name": "python",
   "nbconvert_exporter": "python",
   "pygments_lexer": "ipython3",
   "version": "3.4.3+"
  }
 },
 "nbformat": 4,
 "nbformat_minor": 1
}

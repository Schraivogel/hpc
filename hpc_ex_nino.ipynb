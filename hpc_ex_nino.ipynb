{
 "cells": [
  {
   "cell_type": "markdown",
   "metadata": {},
   "source": [
    "## HPC EX 1"
   ]
  },
  {
   "cell_type": "markdown",
   "metadata": {},
   "source": [
    "### Initialization"
   ]
  },
  {
   "cell_type": "code",
   "execution_count": 1,
   "metadata": {
    "collapsed": false
   },
   "outputs": [],
   "source": [
    "import os\n",
    "import numpy as np\n",
    "import scipy\n",
    "# If you have matplotlib 1.5 or higher, we can use live plotting!\n",
    "import matplotlib as mpl\n",
    "if float(mpl.__version__[:3]) >= 1.5:\n",
    "    %matplotlib notebook\n",
    "else:\n",
    "    %matplotlib inline\n",
    "    \n",
    "import matplotlib.pyplot as plt\n",
    "import time\n",
    "import flowFunc\n",
    "\n",
    "####################################################################\n",
    "######################## Start calculations ########################\n",
    "####################################################################\n",
    "\n",
    "nRows = 4\n",
    "nCols = 4\n",
    "nCh = 9\n",
    "\n",
    "timesteps = 100\n",
    "\n",
    "c = np.array([[0,0], [0,1], [-1,0], [0,-1], [1,0], [-1,1], [-1,-1], [1,-1], [1,1]])\n",
    "\n",
    "f = np.zeros((nRows, nCols, nCh), dtype = float)\n",
    "# weights for initial distribution\n",
    "w = np.array([4/9, 1/9, 1/9, 1/9, 1/9, 1/36, 1/36, 1/36, 1/36])\n",
    "# \n",
    "omega = 0.1\n",
    "\n",
    "# initial lattice distribution f\n",
    "f = flowFunc.f_init(f, w)"
   ]
  },
  {
   "cell_type": "markdown",
   "metadata": {},
   "source": [
    "### Scattering"
   ]
  },
  {
   "cell_type": "code",
   "execution_count": 7,
   "metadata": {
    "collapsed": false
   },
   "outputs": [
    {
     "ename": "TypeError",
     "evalue": "sum() takes no keyword arguments",
     "output_type": "error",
     "traceback": [
      "\u001b[1;31m---------------------------------------------------------------------------\u001b[0m",
      "\u001b[1;31mTypeError\u001b[0m                                 Traceback (most recent call last)",
      "\u001b[1;32m<ipython-input-7-dc19e869e959>\u001b[0m in \u001b[0;36m<module>\u001b[1;34m()\u001b[0m\n\u001b[0;32m      2\u001b[0m \u001b[0mf\u001b[0m \u001b[1;33m=\u001b[0m \u001b[0mflowFunc\u001b[0m\u001b[1;33m.\u001b[0m\u001b[0mf_init\u001b[0m\u001b[1;33m(\u001b[0m\u001b[0mf\u001b[0m\u001b[1;33m,\u001b[0m \u001b[0mw\u001b[0m\u001b[1;33m)\u001b[0m\u001b[1;33m\u001b[0m\u001b[0m\n\u001b[0;32m      3\u001b[0m \u001b[0mrho\u001b[0m \u001b[1;33m=\u001b[0m \u001b[0mnp\u001b[0m\u001b[1;33m.\u001b[0m\u001b[0mones\u001b[0m\u001b[1;33m(\u001b[0m\u001b[1;33m(\u001b[0m\u001b[1;36m4\u001b[0m\u001b[1;33m,\u001b[0m\u001b[1;36m4\u001b[0m\u001b[1;33m)\u001b[0m\u001b[1;33m)\u001b[0m\u001b[1;33m\u001b[0m\u001b[0m\n\u001b[1;32m----> 4\u001b[1;33m \u001b[0mprint\u001b[0m\u001b[1;33m(\u001b[0m\u001b[0msum\u001b[0m\u001b[1;33m(\u001b[0m\u001b[0mrho\u001b[0m \u001b[1;33m<\u001b[0m \u001b[1;36m0\u001b[0m\u001b[1;33m,\u001b[0m \u001b[0maxis\u001b[0m\u001b[1;33m=\u001b[0m\u001b[1;36m2\u001b[0m\u001b[1;33m)\u001b[0m\u001b[1;33m)\u001b[0m\u001b[1;33m\u001b[0m\u001b[0m\n\u001b[0m\u001b[0;32m      5\u001b[0m \u001b[1;31m# time loop\u001b[0m\u001b[1;33m\u001b[0m\u001b[1;33m\u001b[0m\u001b[0m\n\u001b[0;32m      6\u001b[0m \u001b[1;32mfor\u001b[0m \u001b[0mt\u001b[0m \u001b[1;32min\u001b[0m \u001b[0mrange\u001b[0m\u001b[1;33m(\u001b[0m\u001b[0mtimesteps\u001b[0m\u001b[1;33m)\u001b[0m\u001b[1;33m:\u001b[0m\u001b[1;33m\u001b[0m\u001b[0m\n",
      "\u001b[1;31mTypeError\u001b[0m: sum() takes no keyword arguments"
     ]
    }
   ],
   "source": [
    "# initial lattice distribution f\n",
    "f = flowFunc.f_init(f, w)\n",
    "rho = np.ones((4,4))\n",
    "print(sum(rho < 0, axis=2))\n",
    "# time loop\n",
    "for t in range(timesteps):\n",
    "    \n",
    "    # shift distribution f\n",
    "    f = flowFunc.shift_f(f)\n",
    "    # get partial current density j\n",
    "    j = flowFunc.calc_j(c, f)\n",
    "    # get current density rho\n",
    "    rho = flowFunc.get_rho(f)\n",
    "    # get average velocity\n",
    "    u = flowFunc.calc_avg_vel(rho, j)\n",
    "    # get local equilibrium distributions\n",
    "    feQ = flowFunc.calc_equilibrium(rho, u, c, w)\n",
    "    # update distribution\n",
    "    f += omega * (feQ - f)\n",
    "    \n",
    "    print(feQ, '\\n')"
   ]
  },
  {
   "cell_type": "markdown",
   "metadata": {},
   "source": [
    "### Plot"
   ]
  },
  {
   "cell_type": "code",
   "execution_count": null,
   "metadata": {
    "collapsed": false
   },
   "outputs": [],
   "source": [
    "rows = 7\n",
    "cols = 5\n",
    "q = 9\n",
    "timesteps = 20\n",
    "\n",
    "latt = np.zeros((rows, cols, q), dtype = float)\n",
    "# initial lattice occupation\n",
    "\n",
    "\n",
    "fig = plt.gcf()\n",
    "fig.show()\n",
    "fig.canvas.draw()\n",
    "\n",
    "for i in range(5,6):\n",
    "    ch = i\n",
    "    latt[1, 2, ch] = 1.0\n",
    "    # loop over timesteps\n",
    "    for t in range(timesteps):\n",
    "        latt = flowFunc.per_shift(latt)\n",
    "        plt.imshow(latt[:,:,ch], cmap='gray',  interpolation='nearest')\n",
    "        fig.canvas.draw()"
   ]
  }
 ],
 "metadata": {
  "kernelspec": {
   "display_name": "Python 3",
   "language": "python",
   "name": "python3"
  },
  "language_info": {
   "codemirror_mode": {
    "name": "ipython",
    "version": 3
   },
   "file_extension": ".py",
   "mimetype": "text/x-python",
   "name": "python",
   "nbconvert_exporter": "python",
   "pygments_lexer": "ipython3",
   "version": "3.4.3+"
  }
 },
 "nbformat": 4,
 "nbformat_minor": 1
}

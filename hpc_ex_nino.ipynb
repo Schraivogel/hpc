{
 "cells": [
  {
   "cell_type": "markdown",
   "metadata": {},
   "source": [
    "## HPC EX 1"
   ]
  },
  {
   "cell_type": "markdown",
   "metadata": {},
   "source": [
    "### Initialization"
   ]
  },
  {
   "cell_type": "code",
   "execution_count": 1,
   "metadata": {
    "collapsed": false
   },
   "outputs": [],
   "source": [
    "import os\n",
    "import numpy as np\n",
    "import scipy\n",
    "# If you have matplotlib 1.5 or higher, we can use live plotting!\n",
    "import matplotlib as mpl\n",
    "if float(mpl.__version__[:3]) >= 1.5:\n",
    "    %matplotlib notebook\n",
    "else:\n",
    "    %matplotlib inline\n",
    "    \n",
    "import matplotlib.pyplot as plt\n",
    "import time\n",
    "import flowFunc\n",
    "\n",
    "####################################################################\n",
    "######################## Start calculations ########################\n",
    "####################################################################\n",
    "\n",
    "nRows = 4\n",
    "nCols = 4\n",
    "nCh = 9\n",
    "\n",
    "timesteps = 5\n",
    "\n",
    "c = np.array([[0,0], [0,1], [-1,0], [0,-1], [1,0], [-1,1], [-1,-1], [1,-1], [1,1]])\n",
    "\n",
    "latt = np.zeros((nRows, nCols, nCh), dtype = float)\n",
    "\n",
    "w = np.array([4/9, 1/9, 1/9, 1/9, 1/9, 1/36, 1/36, 1/36, 1/36])\n",
    "\n",
    "# initial lattice occupation\n",
    "for i in range(nCh):\n",
    "    latt[:, :, i] = w[i]\n",
    "\n"
   ]
  },
  {
   "cell_type": "markdown",
   "metadata": {},
   "source": [
    "### Scattering"
   ]
  },
  {
   "cell_type": "code",
   "execution_count": 2,
   "metadata": {
    "collapsed": false
   },
   "outputs": [
    {
     "name": "stdout",
     "output_type": "stream",
     "text": [
      "Number of channels: 9\n",
      "Shape of lattice: (4, 4, 9)\n",
      "Shape of c: (9, 2) . Vector of finite velocity directions\n",
      "Shape of w: (9,) . Weight vector\n",
      "Shape of j: (4, 4, 2) = lattice.dot(c) . Weighted c  per node\n",
      "Shape of rho: (4, 4) . sum of particles over all channels per node\n",
      "Shape of u: (4, 4, 2) = j/rho . Weighted vector of directions per node\n",
      "\n",
      "\n"
     ]
    }
   ],
   "source": [
    "for t in range(timesteps):\n",
    "    #print(latt[:,:,ch], '\\n')\n",
    "    latt = flowFunc.shift_latt(latt)\n",
    "\n",
    "j = flowFunc.calc_j(c, latt)\n",
    "rho = flowFunc.sum_occ(latt)\n",
    "u = flowFunc.calc_avg_vel(rho, j)\n",
    "\n",
    "flowFunc.checkDim(latt, c, w, j, rho, u)\n",
    "\n",
    "feQ = flowFunc.calc_equilibrium(rho, u, c, w)\n",
    "print(feQ)"
   ]
  },
  {
   "cell_type": "markdown",
   "metadata": {},
   "source": [
    "### Plot"
   ]
  },
  {
   "cell_type": "code",
   "execution_count": null,
   "metadata": {
    "collapsed": false
   },
   "outputs": [],
   "source": [
    "rows = 7\n",
    "cols = 5\n",
    "q = 9\n",
    "timesteps = 20\n",
    "\n",
    "latt = np.zeros((rows, cols, q), dtype = float)\n",
    "# initial lattice occupation\n",
    "\n",
    "\n",
    "fig = plt.gcf()\n",
    "fig.show()\n",
    "fig.canvas.draw()\n",
    "\n",
    "for i in range(5,6):\n",
    "    ch = i\n",
    "    latt[1, 2, ch] = 1.0\n",
    "    # loop over timesteps\n",
    "    for t in range(timesteps):\n",
    "        latt = flowFunc.per_shift(latt)\n",
    "        plt.imshow(latt[:,:,ch], cmap='gray',  interpolation='nearest')\n",
    "        fig.canvas.draw()"
   ]
  }
 ],
 "metadata": {
  "kernelspec": {
   "display_name": "Python 3",
   "language": "python",
   "name": "python3"
  },
  "language_info": {
   "codemirror_mode": {
    "name": "ipython",
    "version": 3
   },
   "file_extension": ".py",
   "mimetype": "text/x-python",
   "name": "python",
   "nbconvert_exporter": "python",
   "pygments_lexer": "ipython3",
   "version": "3.4.3+"
  }
 },
 "nbformat": 4,
 "nbformat_minor": 1
}

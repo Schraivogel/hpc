{
 "cells": [
  {
   "cell_type": "markdown",
   "metadata": {},
   "source": [
    "## HPC EX 1"
   ]
  },
  {
   "cell_type": "markdown",
   "metadata": {},
   "source": [
    "### Initialization"
   ]
  },
  {
   "cell_type": "code",
   "execution_count": 39,
   "metadata": {
    "collapsed": false
   },
   "outputs": [],
   "source": [
    "import os\n",
    "import numpy as np\n",
    "import scipy\n",
    "# If you have matplotlib 1.5 or higher, we can use live plotting!\n",
    "import matplotlib as mpl\n",
    "if float(mpl.__version__[:3]) >= 1.5:\n",
    "    %matplotlib notebook\n",
    "else:\n",
    "    %matplotlib inline\n",
    "    \n",
    "import matplotlib.pyplot as plt\n",
    "import time\n",
    "import flowFunc\n",
    "\n",
    "####################################################################\n",
    "######################## Start calculations ########################\n",
    "####################################################################\n",
    "\n",
    "nRows = 10\n",
    "nCols = 10\n",
    "nCh = 9\n",
    "\n",
    "timesteps = 300\n",
    "# velocity vector for matrix indices starting top left\n",
    "c = np.array([[0,0], [0,1], [-1,0], [0,-1], [1,0], [-1,1], [-1,-1], [1,-1], [1,1]])\n",
    "# lattice\n",
    "f = np.zeros((nRows, nCols, nCh), dtype = float)\n",
    "# weights for initial distribution\n",
    "w = np.array([4/9, 1/9, 1/9, 1/9, 1/9, 1/36, 1/36, 1/36, 1/36])\n",
    "\n",
    "# initial lattice distribution f\n",
    "f = flowFunc.f_init(f, w)\n",
    "\n",
    "#initial rho\n",
    "rho = np.ones((4,4))\n",
    "\n",
    "# attenuation factor\n",
    "omega = 1\n",
    "assert omega <= 1.7\n",
    "\n",
    "# initialize shear wave decay \n",
    "epsilon = 0.01\n",
    "assert epsilon < 0.1"
   ]
  },
  {
   "cell_type": "markdown",
   "metadata": {},
   "source": [
    "### Start with initial rho"
   ]
  },
  {
   "cell_type": "code",
   "execution_count": 40,
   "metadata": {
    "collapsed": true
   },
   "outputs": [],
   "source": [
    "rho0 = 0.8\n",
    "rho = flowFunc.set_rho(epsilon, rho0, nRows, nCols)\n",
    "u = np.zeros((nRows, nCols, 2))\n",
    "\n",
    "# Belegung des lattice, dass das mit rho, welches ich in der funktion set_rho berechnet habe, passt\n",
    "f = flowFunc.calc_equilibrium(rho, u, c, w) # which is equal to f_eq\n",
    "\n",
    "# sanity check if calculation of rho is equal to predefined rho in function above\n",
    "assert np.isclose(rho, flowFunc.get_rho(f), rtol=1e-15, atol=1e-20, equal_nan=False).all() == True, 'Rho init failed'"
   ]
  },
  {
   "cell_type": "markdown",
   "metadata": {},
   "source": [
    "### Scattering"
   ]
  },
  {
   "cell_type": "code",
   "execution_count": 41,
   "metadata": {
    "collapsed": false
   },
   "outputs": [
    {
     "name": "stdout",
     "output_type": "stream",
     "text": [
      "[ 0.8         0.80587785  0.80951057  0.80951057  0.80587785  0.8\n",
      "  0.79412215  0.79048943  0.79048943  0.79412215]\n",
      "After 300.000000 timesteps: [ 0.8  0.8  0.8  0.8  0.8  0.8  0.8  0.8  0.8  0.8]\n"
     ]
    },
    {
     "data": {
      "image/png": "[encoded data removed]",
      "text/plain": [
       "<matplotlib.figure.Figure at 0x7f116aba3198>"
      ]
     },
     "metadata": {},
     "output_type": "display_data"
    }
   ],
   "source": [
    "%matplotlib inline\n",
    "plt.figure()\n",
    "print(rho[0,:])\n",
    "# time loop\n",
    "for t in range(timesteps):\n",
    "    \n",
    "    if t%20 == 0:\n",
    "        plt.plot(rho[0,:])\n",
    "    # shift distribution f\n",
    "    f = flowFunc.shift_f(f)\n",
    "    # get partial current density j\n",
    "    j = flowFunc.calc_j(c, f)\n",
    "    # get current density rho\n",
    "    rho = flowFunc.get_rho(f)\n",
    "    # get average velocity\n",
    "    u = flowFunc.calc_avg_vel(rho, j)\n",
    "    # get local equilibrium distributions\n",
    "    feQ = flowFunc.calc_equilibrium(rho, u, c, w)\n",
    "    # update distribution\n",
    "    f += omega * (feQ - f)\n",
    "    \n",
    "print('After %f timesteps: %s' %(timesteps, rho[0,:]))"
   ]
  },
  {
   "cell_type": "markdown",
   "metadata": {},
   "source": [
    "### Plot"
   ]
  },
  {
   "cell_type": "code",
   "execution_count": null,
   "metadata": {
    "collapsed": false
   },
   "outputs": [],
   "source": [
    "rows = 7\n",
    "cols = 5\n",
    "q = 9\n",
    "timesteps = 20\n",
    "\n",
    "latt = np.zeros((rows, cols, q), dtype = float)\n",
    "# initial lattice occupation\n",
    "\n",
    "\n",
    "fig = plt.gcf()\n",
    "fig.show()\n",
    "fig.canvas.draw()\n",
    "\n",
    "for i in range(5,6):\n",
    "    ch = i\n",
    "    latt[1, 2, ch] = 1.0\n",
    "    # loop over timesteps\n",
    "    for t in range(timesteps):\n",
    "        latt = flowFunc.per_shift(latt)\n",
    "        plt.imshow(latt[:,:,ch], cmap='gray',  interpolation='nearest')\n",
    "        fig.canvas.draw()"
   ]
  }
 ],
 "metadata": {
  "kernelspec": {
   "display_name": "Python 3",
   "language": "python",
   "name": "python3"
  },
  "language_info": {
   "codemirror_mode": {
    "name": "ipython",
    "version": 3
   },
   "file_extension": ".py",
   "mimetype": "text/x-python",
   "name": "python",
   "nbconvert_exporter": "python",
   "pygments_lexer": "ipython3",
   "version": "3.4.3+"
  }
 },
 "nbformat": 4,
 "nbformat_minor": 1
}
